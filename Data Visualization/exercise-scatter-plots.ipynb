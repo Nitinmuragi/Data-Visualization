{
 "cells": [
  {
   "cell_type": "markdown",
   "id": "eb288c7e",
   "metadata": {
    "papermill": {
     "duration": 0.007236,
     "end_time": "2025-05-21T16:24:45.567379",
     "exception": false,
     "start_time": "2025-05-21T16:24:45.560143",
     "status": "completed"
    },
    "tags": []
   },
   "source": [
    "**This notebook is an exercise in the [Data Visualization](https://www.kaggle.com/learn/data-visualization) course.  You can reference the tutorial at [this link](https://www.kaggle.com/alexisbcook/scatter-plots).**\n",
    "\n",
    "---\n"
   ]
  },
  {
   "cell_type": "markdown",
   "id": "9f1be4d8",
   "metadata": {
    "papermill": {
     "duration": 0.005815,
     "end_time": "2025-05-21T16:24:45.579703",
     "exception": false,
     "start_time": "2025-05-21T16:24:45.573888",
     "status": "completed"
    },
    "tags": []
   },
   "source": [
    "In this exercise, you will use your new knowledge to propose a solution to a real-world scenario.  To succeed, you will need to import data into Python, answer questions using the data, and generate **scatter plots** to understand patterns in the data.\n",
    "\n",
    "## Scenario\n",
    "\n",
    "You work for a major candy producer, and your goal is to write a report that your company can use to guide the design of its next product.  Soon after starting your research, you stumble across this [very interesting dataset](https://fivethirtyeight.com/features/the-ultimate-halloween-candy-power-ranking/) containing results from a fun survey to crowdsource favorite candies.\n",
    "\n",
    "## Setup\n",
    "\n",
    "Run the next cell to import and configure the Python libraries that you need to complete the exercise."
   ]
  },
  {
   "cell_type": "code",
   "execution_count": 1,
   "id": "8dd2e812",
   "metadata": {
    "execution": {
     "iopub.execute_input": "2025-05-21T16:24:45.593265Z",
     "iopub.status.busy": "2025-05-21T16:24:45.592854Z",
     "iopub.status.idle": "2025-05-21T16:24:49.543255Z",
     "shell.execute_reply": "2025-05-21T16:24:49.541981Z"
    },
    "papermill": {
     "duration": 3.959124,
     "end_time": "2025-05-21T16:24:49.544994",
     "exception": false,
     "start_time": "2025-05-21T16:24:45.585870",
     "status": "completed"
    },
    "tags": []
   },
   "outputs": [
    {
     "name": "stdout",
     "output_type": "stream",
     "text": [
      "Setup Complete\n"
     ]
    }
   ],
   "source": [
    "import pandas as pd\n",
    "import matplotlib.pyplot as plt\n",
    "%matplotlib inline\n",
    "import seaborn as sns\n",
    "print(\"Setup Complete\")"
   ]
  },
  {
   "cell_type": "markdown",
   "id": "7e39d73c",
   "metadata": {
    "papermill": {
     "duration": 0.00564,
     "end_time": "2025-05-21T16:24:49.556975",
     "exception": false,
     "start_time": "2025-05-21T16:24:49.551335",
     "status": "completed"
    },
    "tags": []
   },
   "source": [
    "The questions below will give you feedback on your work. Run the following cell to set up our feedback system."
   ]
  },
  {
   "cell_type": "code",
   "execution_count": 2,
   "id": "b0988f3e",
   "metadata": {
    "execution": {
     "iopub.execute_input": "2025-05-21T16:24:49.570094Z",
     "iopub.status.busy": "2025-05-21T16:24:49.569599Z",
     "iopub.status.idle": "2025-05-21T16:24:49.640030Z",
     "shell.execute_reply": "2025-05-21T16:24:49.638807Z"
    },
    "papermill": {
     "duration": 0.078856,
     "end_time": "2025-05-21T16:24:49.641565",
     "exception": false,
     "start_time": "2025-05-21T16:24:49.562709",
     "status": "completed"
    },
    "tags": []
   },
   "outputs": [
    {
     "name": "stdout",
     "output_type": "stream",
     "text": [
      "Setup Complete\n"
     ]
    }
   ],
   "source": [
    "# Set up code checking\n",
    "from learntools.core import binder\n",
    "binder.bind(globals())\n",
    "from learntools.data_viz_to_coder.ex4 import *\n",
    "print(\"Setup Complete\")"
   ]
  },
  {
   "cell_type": "markdown",
   "id": "1acc9586",
   "metadata": {
    "papermill": {
     "duration": 0.005735,
     "end_time": "2025-05-21T16:24:49.653801",
     "exception": false,
     "start_time": "2025-05-21T16:24:49.648066",
     "status": "completed"
    },
    "tags": []
   },
   "source": [
    "## Step 1: Load the Data\n",
    "\n",
    "Read the candy data file into `candy_data`.  Use the `\"id\"` column to label the rows."
   ]
  },
  {
   "cell_type": "code",
   "execution_count": 3,
   "id": "ccefbef5",
   "metadata": {
    "execution": {
     "iopub.execute_input": "2025-05-21T16:24:49.666663Z",
     "iopub.status.busy": "2025-05-21T16:24:49.666336Z",
     "iopub.status.idle": "2025-05-21T16:24:49.680033Z",
     "shell.execute_reply": "2025-05-21T16:24:49.679109Z"
    },
    "papermill": {
     "duration": 0.022056,
     "end_time": "2025-05-21T16:24:49.681714",
     "exception": false,
     "start_time": "2025-05-21T16:24:49.659658",
     "status": "completed"
    },
    "tags": []
   },
   "outputs": [
    {
     "data": {
      "application/javascript": [
       "parent.postMessage({\"jupyterEvent\": \"custom.exercise_interaction\", \"data\": {\"outcomeType\": 1, \"valueTowardsCompletion\": 0.3333333333333333, \"interactionType\": 1, \"questionType\": 1, \"questionId\": \"1_LoadData\", \"learnToolsVersion\": \"0.3.5\", \"failureMessage\": \"\", \"exceptionClass\": \"\", \"trace\": \"\"}}, \"*\")"
      ],
      "text/plain": [
       "<IPython.core.display.Javascript object>"
      ]
     },
     "metadata": {},
     "output_type": "display_data"
    },
    {
     "data": {
      "text/markdown": [
       "<span style=\"color:#33cc33\">Correct</span>"
      ],
      "text/plain": [
       "Correct"
      ]
     },
     "metadata": {},
     "output_type": "display_data"
    }
   ],
   "source": [
    "# Path of the file to read\n",
    "candy_filepath = \"../input/candy.csv\"\n",
    "\n",
    "# Fill in the line below to read the file into a variable candy_data\n",
    "candy_data = pd.read_csv(candy_filepath, index_col = 'id')\n",
    "\n",
    "# Run the line below with no changes to check that you've loaded the data correctly\n",
    "step_1.check()"
   ]
  },
  {
   "cell_type": "code",
   "execution_count": 4,
   "id": "41c14538",
   "metadata": {
    "execution": {
     "iopub.execute_input": "2025-05-21T16:24:49.695429Z",
     "iopub.status.busy": "2025-05-21T16:24:49.695082Z",
     "iopub.status.idle": "2025-05-21T16:24:49.699474Z",
     "shell.execute_reply": "2025-05-21T16:24:49.698510Z"
    },
    "papermill": {
     "duration": 0.013241,
     "end_time": "2025-05-21T16:24:49.701119",
     "exception": false,
     "start_time": "2025-05-21T16:24:49.687878",
     "status": "completed"
    },
    "tags": []
   },
   "outputs": [],
   "source": [
    "# Lines below will give you a hint or solution code\n",
    "#step_1.hint()\n",
    "#step_1.solution()"
   ]
  },
  {
   "cell_type": "markdown",
   "id": "03dd7858",
   "metadata": {
    "papermill": {
     "duration": 0.005848,
     "end_time": "2025-05-21T16:24:49.713234",
     "exception": false,
     "start_time": "2025-05-21T16:24:49.707386",
     "status": "completed"
    },
    "tags": []
   },
   "source": [
    "## Step 2: Review the data\n",
    "\n",
    "Use a Python command to print the first five rows of the data."
   ]
  },
  {
   "cell_type": "code",
   "execution_count": 5,
   "id": "7e5a016b",
   "metadata": {
    "execution": {
     "iopub.execute_input": "2025-05-21T16:24:49.726546Z",
     "iopub.status.busy": "2025-05-21T16:24:49.726238Z",
     "iopub.status.idle": "2025-05-21T16:24:49.751278Z",
     "shell.execute_reply": "2025-05-21T16:24:49.750225Z"
    },
    "papermill": {
     "duration": 0.033803,
     "end_time": "2025-05-21T16:24:49.753105",
     "exception": false,
     "start_time": "2025-05-21T16:24:49.719302",
     "status": "completed"
    },
    "tags": []
   },
   "outputs": [
    {
     "data": {
      "text/html": [
       "<div>\n",
       "<style scoped>\n",
       "    .dataframe tbody tr th:only-of-type {\n",
       "        vertical-align: middle;\n",
       "    }\n",
       "\n",
       "    .dataframe tbody tr th {\n",
       "        vertical-align: top;\n",
       "    }\n",
       "\n",
       "    .dataframe thead th {\n",
       "        text-align: right;\n",
       "    }\n",
       "</style>\n",
       "<table border=\"1\" class=\"dataframe\">\n",
       "  <thead>\n",
       "    <tr style=\"text-align: right;\">\n",
       "      <th></th>\n",
       "      <th>competitorname</th>\n",
       "      <th>chocolate</th>\n",
       "      <th>fruity</th>\n",
       "      <th>caramel</th>\n",
       "      <th>peanutyalmondy</th>\n",
       "      <th>nougat</th>\n",
       "      <th>crispedricewafer</th>\n",
       "      <th>hard</th>\n",
       "      <th>bar</th>\n",
       "      <th>pluribus</th>\n",
       "      <th>sugarpercent</th>\n",
       "      <th>pricepercent</th>\n",
       "      <th>winpercent</th>\n",
       "    </tr>\n",
       "    <tr>\n",
       "      <th>id</th>\n",
       "      <th></th>\n",
       "      <th></th>\n",
       "      <th></th>\n",
       "      <th></th>\n",
       "      <th></th>\n",
       "      <th></th>\n",
       "      <th></th>\n",
       "      <th></th>\n",
       "      <th></th>\n",
       "      <th></th>\n",
       "      <th></th>\n",
       "      <th></th>\n",
       "      <th></th>\n",
       "    </tr>\n",
       "  </thead>\n",
       "  <tbody>\n",
       "    <tr>\n",
       "      <th>0</th>\n",
       "      <td>100 Grand</td>\n",
       "      <td>Yes</td>\n",
       "      <td>No</td>\n",
       "      <td>Yes</td>\n",
       "      <td>No</td>\n",
       "      <td>No</td>\n",
       "      <td>Yes</td>\n",
       "      <td>No</td>\n",
       "      <td>Yes</td>\n",
       "      <td>No</td>\n",
       "      <td>0.732</td>\n",
       "      <td>0.860</td>\n",
       "      <td>66.971725</td>\n",
       "    </tr>\n",
       "    <tr>\n",
       "      <th>1</th>\n",
       "      <td>3 Musketeers</td>\n",
       "      <td>Yes</td>\n",
       "      <td>No</td>\n",
       "      <td>No</td>\n",
       "      <td>No</td>\n",
       "      <td>Yes</td>\n",
       "      <td>No</td>\n",
       "      <td>No</td>\n",
       "      <td>Yes</td>\n",
       "      <td>No</td>\n",
       "      <td>0.604</td>\n",
       "      <td>0.511</td>\n",
       "      <td>67.602936</td>\n",
       "    </tr>\n",
       "    <tr>\n",
       "      <th>2</th>\n",
       "      <td>Air Heads</td>\n",
       "      <td>No</td>\n",
       "      <td>Yes</td>\n",
       "      <td>No</td>\n",
       "      <td>No</td>\n",
       "      <td>No</td>\n",
       "      <td>No</td>\n",
       "      <td>No</td>\n",
       "      <td>No</td>\n",
       "      <td>No</td>\n",
       "      <td>0.906</td>\n",
       "      <td>0.511</td>\n",
       "      <td>52.341465</td>\n",
       "    </tr>\n",
       "    <tr>\n",
       "      <th>3</th>\n",
       "      <td>Almond Joy</td>\n",
       "      <td>Yes</td>\n",
       "      <td>No</td>\n",
       "      <td>No</td>\n",
       "      <td>Yes</td>\n",
       "      <td>No</td>\n",
       "      <td>No</td>\n",
       "      <td>No</td>\n",
       "      <td>Yes</td>\n",
       "      <td>No</td>\n",
       "      <td>0.465</td>\n",
       "      <td>0.767</td>\n",
       "      <td>50.347546</td>\n",
       "    </tr>\n",
       "    <tr>\n",
       "      <th>4</th>\n",
       "      <td>Baby Ruth</td>\n",
       "      <td>Yes</td>\n",
       "      <td>No</td>\n",
       "      <td>Yes</td>\n",
       "      <td>Yes</td>\n",
       "      <td>Yes</td>\n",
       "      <td>No</td>\n",
       "      <td>No</td>\n",
       "      <td>Yes</td>\n",
       "      <td>No</td>\n",
       "      <td>0.604</td>\n",
       "      <td>0.767</td>\n",
       "      <td>56.914547</td>\n",
       "    </tr>\n",
       "  </tbody>\n",
       "</table>\n",
       "</div>"
      ],
      "text/plain": [
       "   competitorname chocolate fruity caramel peanutyalmondy nougat  \\\n",
       "id                                                                 \n",
       "0       100 Grand       Yes     No     Yes             No     No   \n",
       "1    3 Musketeers       Yes     No      No             No    Yes   \n",
       "2       Air Heads        No    Yes      No             No     No   \n",
       "3      Almond Joy       Yes     No      No            Yes     No   \n",
       "4       Baby Ruth       Yes     No     Yes            Yes    Yes   \n",
       "\n",
       "   crispedricewafer hard  bar pluribus  sugarpercent  pricepercent  winpercent  \n",
       "id                                                                              \n",
       "0               Yes   No  Yes       No         0.732         0.860   66.971725  \n",
       "1                No   No  Yes       No         0.604         0.511   67.602936  \n",
       "2                No   No   No       No         0.906         0.511   52.341465  \n",
       "3                No   No  Yes       No         0.465         0.767   50.347546  \n",
       "4                No   No  Yes       No         0.604         0.767   56.914547  "
      ]
     },
     "execution_count": 5,
     "metadata": {},
     "output_type": "execute_result"
    }
   ],
   "source": [
    "# Print the first five rows of the data\n",
    "candy_data.head() # Your code here"
   ]
  },
  {
   "cell_type": "markdown",
   "id": "954cf40d",
   "metadata": {
    "papermill": {
     "duration": 0.006331,
     "end_time": "2025-05-21T16:24:49.766539",
     "exception": false,
     "start_time": "2025-05-21T16:24:49.760208",
     "status": "completed"
    },
    "tags": []
   },
   "source": [
    "The dataset contains 83 rows, where each corresponds to a different candy bar.  There are 13 columns:\n",
    "- `'competitorname'` contains the name of the candy bar. \n",
    "- the next **9** columns (from `'chocolate'` to `'pluribus'`) describe the candy.  For instance, rows with chocolate candies have `\"Yes\"` in the `'chocolate'` column (and candies without chocolate have `\"No\"` in the same column).\n",
    "- `'sugarpercent'` provides some indication of the amount of sugar, where higher values signify higher sugar content.\n",
    "- `'pricepercent'` shows the price per unit, relative to the other candies in the dataset.\n",
    "- `'winpercent'` is calculated from the survey results; higher values indicate that the candy was more popular with survey respondents.\n",
    "\n",
    "Use the first five rows of the data to answer the questions below."
   ]
  },
  {
   "cell_type": "code",
   "execution_count": 6,
   "id": "35e8a06e",
   "metadata": {
    "execution": {
     "iopub.execute_input": "2025-05-21T16:24:49.780786Z",
     "iopub.status.busy": "2025-05-21T16:24:49.780465Z",
     "iopub.status.idle": "2025-05-21T16:24:49.788364Z",
     "shell.execute_reply": "2025-05-21T16:24:49.787294Z"
    },
    "papermill": {
     "duration": 0.017119,
     "end_time": "2025-05-21T16:24:49.790199",
     "exception": false,
     "start_time": "2025-05-21T16:24:49.773080",
     "status": "completed"
    },
    "tags": []
   },
   "outputs": [
    {
     "data": {
      "application/javascript": [
       "parent.postMessage({\"jupyterEvent\": \"custom.exercise_interaction\", \"data\": {\"outcomeType\": 1, \"valueTowardsCompletion\": 0.3333333333333333, \"interactionType\": 1, \"questionType\": 1, \"questionId\": \"2_ReviewData\", \"learnToolsVersion\": \"0.3.5\", \"failureMessage\": \"\", \"exceptionClass\": \"\", \"trace\": \"\"}}, \"*\")"
      ],
      "text/plain": [
       "<IPython.core.display.Javascript object>"
      ]
     },
     "metadata": {},
     "output_type": "display_data"
    },
    {
     "data": {
      "text/markdown": [
       "<span style=\"color:#33cc33\">Correct</span>"
      ],
      "text/plain": [
       "Correct"
      ]
     },
     "metadata": {},
     "output_type": "display_data"
    }
   ],
   "source": [
    "# Fill in the line below: Which candy was more popular with survey respondents:\n",
    "# '3 Musketeers' or 'Almond Joy'?  (Please enclose your answer in single quotes.)\n",
    "more_popular = '3 Musketeers'\n",
    "\n",
    "# Fill in the line below: Which candy has higher sugar content: 'Air Heads'\n",
    "# or 'Baby Ruth'? (Please enclose your answer in single quotes.)\n",
    "more_sugar = 'Air Heads'\n",
    "\n",
    "# Check your answers\n",
    "step_2.check()"
   ]
  },
  {
   "cell_type": "code",
   "execution_count": 7,
   "id": "c520cdd4",
   "metadata": {
    "execution": {
     "iopub.execute_input": "2025-05-21T16:24:49.804820Z",
     "iopub.status.busy": "2025-05-21T16:24:49.804553Z",
     "iopub.status.idle": "2025-05-21T16:24:49.808850Z",
     "shell.execute_reply": "2025-05-21T16:24:49.808013Z"
    },
    "papermill": {
     "duration": 0.013186,
     "end_time": "2025-05-21T16:24:49.810401",
     "exception": false,
     "start_time": "2025-05-21T16:24:49.797215",
     "status": "completed"
    },
    "tags": []
   },
   "outputs": [],
   "source": [
    "# Lines below will give you a hint or solution code\n",
    "#step_2.hint()\n",
    "#step_2.solution()"
   ]
  },
  {
   "cell_type": "markdown",
   "id": "1431382c",
   "metadata": {
    "papermill": {
     "duration": 0.006215,
     "end_time": "2025-05-21T16:24:49.823277",
     "exception": false,
     "start_time": "2025-05-21T16:24:49.817062",
     "status": "completed"
    },
    "tags": []
   },
   "source": [
    "## Step 3: The role of sugar\n",
    "\n",
    "Do people tend to prefer candies with higher sugar content?  \n",
    "\n",
    "#### Part A\n",
    "\n",
    "Create a scatter plot that shows the relationship between `'sugarpercent'` (on the horizontal x-axis) and `'winpercent'` (on the vertical y-axis).  _Don't add a regression line just yet -- you'll do that in the next step!_"
   ]
  },
  {
   "cell_type": "code",
   "execution_count": 8,
   "id": "5f8c947b",
   "metadata": {
    "execution": {
     "iopub.execute_input": "2025-05-21T16:24:49.838684Z",
     "iopub.status.busy": "2025-05-21T16:24:49.837629Z",
     "iopub.status.idle": "2025-05-21T16:24:50.138374Z",
     "shell.execute_reply": "2025-05-21T16:24:50.137359Z"
    },
    "papermill": {
     "duration": 0.310116,
     "end_time": "2025-05-21T16:24:50.139803",
     "exception": false,
     "start_time": "2025-05-21T16:24:49.829687",
     "status": "completed"
    },
    "tags": []
   },
   "outputs": [
    {
     "data": {
      "application/javascript": [
       "parent.postMessage({\"jupyterEvent\": \"custom.exercise_interaction\", \"data\": {\"outcomeType\": 1, \"valueTowardsCompletion\": 0.3333333333333333, \"interactionType\": 1, \"questionType\": 2, \"questionId\": \"3.1_PlotBlueScatter\", \"learnToolsVersion\": \"0.3.5\", \"failureMessage\": \"\", \"exceptionClass\": \"\", \"trace\": \"\"}}, \"*\")"
      ],
      "text/plain": [
       "<IPython.core.display.Javascript object>"
      ]
     },
     "metadata": {},
     "output_type": "display_data"
    },
    {
     "data": {
      "text/markdown": [
       "<span style=\"color:#33cc33\">Correct</span>"
      ],
      "text/plain": [
       "Correct"
      ]
     },
     "metadata": {},
     "output_type": "display_data"
    },
    {
     "data": {
      "image/png": "[encoded data removed]",
      "text/plain": [
       "<Figure size 640x480 with 1 Axes>"
      ]
     },
     "metadata": {},
     "output_type": "display_data"
    }
   ],
   "source": [
    "# Scatter plot showing the relationship between 'sugarpercent' and 'winpercent'\n",
    "sns.scatterplot(x=candy_data['sugarpercent'], y=candy_data['winpercent'])\n",
    "# Your code here\n",
    "\n",
    "# Check your answer\n",
    "step_3.a.check()"
   ]
  },
  {
   "cell_type": "code",
   "execution_count": 9,
   "id": "cd1d39ca",
   "metadata": {
    "execution": {
     "iopub.execute_input": "2025-05-21T16:24:50.156080Z",
     "iopub.status.busy": "2025-05-21T16:24:50.155706Z",
     "iopub.status.idle": "2025-05-21T16:24:50.160041Z",
     "shell.execute_reply": "2025-05-21T16:24:50.159171Z"
    },
    "papermill": {
     "duration": 0.01427,
     "end_time": "2025-05-21T16:24:50.161692",
     "exception": false,
     "start_time": "2025-05-21T16:24:50.147422",
     "status": "completed"
    },
    "tags": []
   },
   "outputs": [],
   "source": [
    "# Lines below will give you a hint or solution code\n",
    "#step_3.a.hint()\n",
    "#step_3.a.solution_plot()"
   ]
  },
  {
   "cell_type": "markdown",
   "id": "cbda8317",
   "metadata": {
    "papermill": {
     "duration": 0.007114,
     "end_time": "2025-05-21T16:24:50.176494",
     "exception": false,
     "start_time": "2025-05-21T16:24:50.169380",
     "status": "completed"
    },
    "tags": []
   },
   "source": [
    "#### Part B\n",
    "\n",
    "Does the scatter plot show a **strong** correlation between the two variables?  If so, are candies with more sugar relatively more or less popular with the survey respondents?"
   ]
  },
  {
   "cell_type": "code",
   "execution_count": 10,
   "id": "3d495842",
   "metadata": {
    "execution": {
     "iopub.execute_input": "2025-05-21T16:24:50.192547Z",
     "iopub.status.busy": "2025-05-21T16:24:50.192197Z",
     "iopub.status.idle": "2025-05-21T16:24:50.196507Z",
     "shell.execute_reply": "2025-05-21T16:24:50.195615Z"
    },
    "papermill": {
     "duration": 0.014348,
     "end_time": "2025-05-21T16:24:50.198199",
     "exception": false,
     "start_time": "2025-05-21T16:24:50.183851",
     "status": "completed"
    },
    "tags": []
   },
   "outputs": [],
   "source": [
    "#step_3.b.hint()"
   ]
  },
  {
   "cell_type": "code",
   "execution_count": 11,
   "id": "103ad387",
   "metadata": {
    "execution": {
     "iopub.execute_input": "2025-05-21T16:24:50.214292Z",
     "iopub.status.busy": "2025-05-21T16:24:50.213891Z",
     "iopub.status.idle": "2025-05-21T16:24:50.221820Z",
     "shell.execute_reply": "2025-05-21T16:24:50.220950Z"
    },
    "papermill": {
     "duration": 0.017908,
     "end_time": "2025-05-21T16:24:50.223567",
     "exception": false,
     "start_time": "2025-05-21T16:24:50.205659",
     "status": "completed"
    },
    "tags": []
   },
   "outputs": [
    {
     "data": {
      "application/javascript": [
       "parent.postMessage({\"jupyterEvent\": \"custom.exercise_interaction\", \"data\": {\"interactionType\": 3, \"questionType\": 4, \"questionId\": \"3.2_ThinkBlueScatter\", \"learnToolsVersion\": \"0.3.5\", \"valueTowardsCompletion\": 0.0, \"failureMessage\": \"\", \"exceptionClass\": \"\", \"trace\": \"\", \"outcomeType\": 4}}, \"*\")"
      ],
      "text/plain": [
       "<IPython.core.display.Javascript object>"
      ]
     },
     "metadata": {},
     "output_type": "display_data"
    },
    {
     "data": {
      "text/markdown": [
       "<span style=\"color:#33cc99\">Solution:</span> The scatter plot does not show a strong correlation between the two variables. Since there is no clear relationship between the two variables, this tells us that sugar content does not play a strong role in candy popularity."
      ],
      "text/plain": [
       "Solution: The scatter plot does not show a strong correlation between the two variables. Since there is no clear relationship between the two variables, this tells us that sugar content does not play a strong role in candy popularity."
      ]
     },
     "metadata": {},
     "output_type": "display_data"
    }
   ],
   "source": [
    "# Check your answer (Run this code cell to receive credit!)\n",
    "step_3.b.solution()"
   ]
  },
  {
   "cell_type": "markdown",
   "id": "74009a36",
   "metadata": {
    "papermill": {
     "duration": 0.007224,
     "end_time": "2025-05-21T16:24:50.238660",
     "exception": false,
     "start_time": "2025-05-21T16:24:50.231436",
     "status": "completed"
    },
    "tags": []
   },
   "source": [
    "## Step 4: Take a closer look\n",
    "\n",
    "#### Part A\n",
    "\n",
    "Create the same scatter plot you created in **Step 3**, but now with a regression line!"
   ]
  },
  {
   "cell_type": "code",
   "execution_count": 12,
   "id": "4db9e842",
   "metadata": {
    "execution": {
     "iopub.execute_input": "2025-05-21T16:24:50.255529Z",
     "iopub.status.busy": "2025-05-21T16:24:50.254655Z",
     "iopub.status.idle": "2025-05-21T16:24:50.545856Z",
     "shell.execute_reply": "2025-05-21T16:24:50.544928Z"
    },
    "papermill": {
     "duration": 0.301268,
     "end_time": "2025-05-21T16:24:50.547482",
     "exception": false,
     "start_time": "2025-05-21T16:24:50.246214",
     "status": "completed"
    },
    "tags": []
   },
   "outputs": [
    {
     "data": {
      "text/plain": [
       "<Axes: xlabel='sugarpercent', ylabel='winpercent'>"
      ]
     },
     "execution_count": 12,
     "metadata": {},
     "output_type": "execute_result"
    },
    {
     "data": {
      "image/png": "[encoded data removed]",
      "text/plain": [
       "<Figure size 640x480 with 1 Axes>"
      ]
     },
     "metadata": {},
     "output_type": "display_data"
    }
   ],
   "source": [
    "sns.regplot(x=candy_data['sugarpercent'], y=candy_data['winpercent'])"
   ]
  },
  {
   "cell_type": "code",
   "execution_count": 13,
   "id": "990362fd",
   "metadata": {
    "execution": {
     "iopub.execute_input": "2025-05-21T16:24:50.565285Z",
     "iopub.status.busy": "2025-05-21T16:24:50.564552Z",
     "iopub.status.idle": "2025-05-21T16:24:50.568703Z",
     "shell.execute_reply": "2025-05-21T16:24:50.567867Z"
    },
    "papermill": {
     "duration": 0.014689,
     "end_time": "2025-05-21T16:24:50.570266",
     "exception": false,
     "start_time": "2025-05-21T16:24:50.555577",
     "status": "completed"
    },
    "tags": []
   },
   "outputs": [],
   "source": [
    "# Lines below will give you a hint or solution code\n",
    "#step_4.a.hint()\n",
    "#step_4.a.solution_plot()"
   ]
  },
  {
   "cell_type": "markdown",
   "id": "b62f41f5",
   "metadata": {
    "papermill": {
     "duration": 0.007747,
     "end_time": "2025-05-21T16:24:50.586625",
     "exception": false,
     "start_time": "2025-05-21T16:24:50.578878",
     "status": "completed"
    },
    "tags": []
   },
   "source": [
    "#### Part B\n",
    "\n",
    "According to the plot above, is there a **slight** correlation between `'winpercent'` and `'sugarpercent'`?  What does this tell you about the candy that people tend to prefer?"
   ]
  },
  {
   "cell_type": "code",
   "execution_count": 14,
   "id": "a8496e4c",
   "metadata": {
    "execution": {
     "iopub.execute_input": "2025-05-21T16:24:50.604145Z",
     "iopub.status.busy": "2025-05-21T16:24:50.603784Z",
     "iopub.status.idle": "2025-05-21T16:24:50.608309Z",
     "shell.execute_reply": "2025-05-21T16:24:50.607191Z"
    },
    "papermill": {
     "duration": 0.015018,
     "end_time": "2025-05-21T16:24:50.609840",
     "exception": false,
     "start_time": "2025-05-21T16:24:50.594822",
     "status": "completed"
    },
    "tags": []
   },
   "outputs": [],
   "source": [
    "#step_4.b.hint()"
   ]
  },
  {
   "cell_type": "code",
   "execution_count": 15,
   "id": "4591b9ba",
   "metadata": {
    "execution": {
     "iopub.execute_input": "2025-05-21T16:24:50.628742Z",
     "iopub.status.busy": "2025-05-21T16:24:50.628398Z",
     "iopub.status.idle": "2025-05-21T16:24:50.635652Z",
     "shell.execute_reply": "2025-05-21T16:24:50.634797Z"
    },
    "papermill": {
     "duration": 0.018685,
     "end_time": "2025-05-21T16:24:50.637156",
     "exception": false,
     "start_time": "2025-05-21T16:24:50.618471",
     "status": "completed"
    },
    "tags": []
   },
   "outputs": [
    {
     "data": {
      "application/javascript": [
       "parent.postMessage({\"jupyterEvent\": \"custom.exercise_interaction\", \"data\": {\"interactionType\": 3, \"questionType\": 4, \"questionId\": \"4.2_ThinkBlueReg\", \"learnToolsVersion\": \"0.3.5\", \"valueTowardsCompletion\": 0.0, \"failureMessage\": \"\", \"exceptionClass\": \"\", \"trace\": \"\", \"outcomeType\": 4}}, \"*\")"
      ],
      "text/plain": [
       "<IPython.core.display.Javascript object>"
      ]
     },
     "metadata": {},
     "output_type": "display_data"
    },
    {
     "data": {
      "text/markdown": [
       "<span style=\"color:#33cc99\">Solution:</span> Since the regression line has a slightly positive slope, this tells us that there is a slightly positive correlation between `'winpercent'` and `'sugarpercent'`. Thus, people have a slight preference for candies containing relatively more sugar."
      ],
      "text/plain": [
       "Solution: Since the regression line has a slightly positive slope, this tells us that there is a slightly positive correlation between `'winpercent'` and `'sugarpercent'`. Thus, people have a slight preference for candies containing relatively more sugar."
      ]
     },
     "metadata": {},
     "output_type": "display_data"
    }
   ],
   "source": [
    "# Check your answer (Run this code cell to receive credit!)\n",
    "step_4.b.solution()"
   ]
  },
  {
   "cell_type": "markdown",
   "id": "cbff5ccb",
   "metadata": {
    "papermill": {
     "duration": 0.008392,
     "end_time": "2025-05-21T16:24:50.749240",
     "exception": false,
     "start_time": "2025-05-21T16:24:50.740848",
     "status": "completed"
    },
    "tags": []
   },
   "source": [
    "## Step 5: Chocolate!\n",
    "\n",
    "In the code cell below, create a scatter plot to show the relationship between `'pricepercent'` (on the horizontal x-axis) and `'winpercent'` (on the vertical y-axis). Use the `'chocolate'` column to color-code the points.  _Don't add any regression lines just yet -- you'll do that in the next step!_"
   ]
  },
  {
   "cell_type": "code",
   "execution_count": 16,
   "id": "74e911a4",
   "metadata": {
    "execution": {
     "iopub.execute_input": "2025-05-21T16:24:50.767255Z",
     "iopub.status.busy": "2025-05-21T16:24:50.766906Z",
     "iopub.status.idle": "2025-05-21T16:24:51.027884Z",
     "shell.execute_reply": "2025-05-21T16:24:51.027007Z"
    },
    "papermill": {
     "duration": 0.271912,
     "end_time": "2025-05-21T16:24:51.029540",
     "exception": false,
     "start_time": "2025-05-21T16:24:50.757628",
     "status": "completed"
    },
    "tags": []
   },
   "outputs": [
    {
     "data": {
      "application/javascript": [
       "parent.postMessage({\"jupyterEvent\": \"custom.exercise_interaction\", \"data\": {\"outcomeType\": 1, \"valueTowardsCompletion\": 0.3333333333333333, \"interactionType\": 1, \"questionType\": 2, \"questionId\": \"5_ColorScatter\", \"learnToolsVersion\": \"0.3.5\", \"failureMessage\": \"\", \"exceptionClass\": \"\", \"trace\": \"\"}}, \"*\")"
      ],
      "text/plain": [
       "<IPython.core.display.Javascript object>"
      ]
     },
     "metadata": {},
     "output_type": "display_data"
    },
    {
     "data": {
      "text/markdown": [
       "<span style=\"color:#33cc33\">Correct</span>"
      ],
      "text/plain": [
       "Correct"
      ]
     },
     "metadata": {},
     "output_type": "display_data"
    },
    {
     "data": {
      "image/png": "[encoded data removed]",
      "text/plain": [
       "<Figure size 640x480 with 1 Axes>"
      ]
     },
     "metadata": {},
     "output_type": "display_data"
    }
   ],
   "source": [
    "# Scatter plot showing the relationship between 'pricepercent', 'winpercent', and 'chocolate'\n",
    "sns.scatterplot(x=candy_data['pricepercent'], y=candy_data['winpercent'], hue=candy_data['chocolate'])\n",
    "# Your code here\n",
    "\n",
    "# Check your answer\n",
    "step_5.check()"
   ]
  },
  {
   "cell_type": "code",
   "execution_count": 17,
   "id": "fe4856b3",
   "metadata": {
    "execution": {
     "iopub.execute_input": "2025-05-21T16:24:51.049339Z",
     "iopub.status.busy": "2025-05-21T16:24:51.048926Z",
     "iopub.status.idle": "2025-05-21T16:24:51.053654Z",
     "shell.execute_reply": "2025-05-21T16:24:51.052431Z"
    },
    "papermill": {
     "duration": 0.016419,
     "end_time": "2025-05-21T16:24:51.055348",
     "exception": false,
     "start_time": "2025-05-21T16:24:51.038929",
     "status": "completed"
    },
    "tags": []
   },
   "outputs": [],
   "source": [
    "# Lines below will give you a hint or solution code\n",
    "#step_5.hint()\n",
    "#step_5.solution_plot()"
   ]
  },
  {
   "cell_type": "markdown",
   "id": "01f5bdd9",
   "metadata": {
    "papermill": {
     "duration": 0.008417,
     "end_time": "2025-05-21T16:24:51.072637",
     "exception": false,
     "start_time": "2025-05-21T16:24:51.064220",
     "status": "completed"
    },
    "tags": []
   },
   "source": [
    "Can you see any interesting patterns in the scatter plot?  We'll investigate this plot further  by adding regression lines in the next step!\n",
    "\n",
    "## Step 6: Investigate chocolate\n",
    "\n",
    "#### Part A\n",
    "\n",
    "Create the same scatter plot you created in **Step 5**, but now with two regression lines, corresponding to (1) chocolate candies and (2) candies without chocolate."
   ]
  },
  {
   "cell_type": "code",
   "execution_count": 18,
   "id": "cb32b128",
   "metadata": {
    "execution": {
     "iopub.execute_input": "2025-05-21T16:24:51.091398Z",
     "iopub.status.busy": "2025-05-21T16:24:51.091078Z",
     "iopub.status.idle": "2025-05-21T16:24:51.689762Z",
     "shell.execute_reply": "2025-05-21T16:24:51.688781Z"
    },
    "papermill": {
     "duration": 0.610365,
     "end_time": "2025-05-21T16:24:51.691645",
     "exception": false,
     "start_time": "2025-05-21T16:24:51.081280",
     "status": "completed"
    },
    "tags": []
   },
   "outputs": [
    {
     "data": {
      "application/javascript": [
       "parent.postMessage({\"jupyterEvent\": \"custom.exercise_interaction\", \"data\": {\"outcomeType\": 1, \"valueTowardsCompletion\": 0.3333333333333333, \"interactionType\": 1, \"questionType\": 2, \"questionId\": \"6.1_PlotColorReg\", \"learnToolsVersion\": \"0.3.5\", \"failureMessage\": \"\", \"exceptionClass\": \"\", \"trace\": \"\"}}, \"*\")"
      ],
      "text/plain": [
       "<IPython.core.display.Javascript object>"
      ]
     },
     "metadata": {},
     "output_type": "display_data"
    },
    {
     "data": {
      "text/markdown": [
       "<span style=\"color:#33cc33\">Correct</span>"
      ],
      "text/plain": [
       "Correct"
      ]
     },
     "metadata": {},
     "output_type": "display_data"
    },
    {
     "data": {
      "image/png": "[encoded data removed]",
      "text/plain": [
       "<Figure size 578.611x500 with 1 Axes>"
      ]
     },
     "metadata": {},
     "output_type": "display_data"
    }
   ],
   "source": [
    "# Color-coded scatter plot w/ regression lines\n",
    "#sns.scatterplot(x=candy_data['pricepercent'], y=candy_data['winpercent'], hue=candy_data['chocolate'])\n",
    "sns.lmplot(x=\"pricepercent\", y=\"winpercent\", hue=\"chocolate\", data=candy_data)\n",
    "# Your code here\n",
    "\n",
    "# Check your answer\n",
    "step_6.a.check()"
   ]
  },
  {
   "cell_type": "code",
   "execution_count": 19,
   "id": "bb45666d",
   "metadata": {
    "execution": {
     "iopub.execute_input": "2025-05-21T16:24:51.713299Z",
     "iopub.status.busy": "2025-05-21T16:24:51.712920Z",
     "iopub.status.idle": "2025-05-21T16:24:51.716911Z",
     "shell.execute_reply": "2025-05-21T16:24:51.716219Z"
    },
    "papermill": {
     "duration": 0.01673,
     "end_time": "2025-05-21T16:24:51.718626",
     "exception": false,
     "start_time": "2025-05-21T16:24:51.701896",
     "status": "completed"
    },
    "tags": []
   },
   "outputs": [],
   "source": [
    "# Lines below will give you a hint or solution code\n",
    "#step_6.a.hint()\n",
    "#step_6.a.solution_plot()"
   ]
  },
  {
   "cell_type": "markdown",
   "id": "463a0ec7",
   "metadata": {
    "papermill": {
     "duration": 0.009372,
     "end_time": "2025-05-21T16:24:51.738132",
     "exception": false,
     "start_time": "2025-05-21T16:24:51.728760",
     "status": "completed"
    },
    "tags": []
   },
   "source": [
    "#### Part B\n",
    "\n",
    "Using the regression lines, what conclusions can you draw about the effects of chocolate and price on candy popularity?"
   ]
  },
  {
   "cell_type": "code",
   "execution_count": 20,
   "id": "ce643a26",
   "metadata": {
    "execution": {
     "iopub.execute_input": "2025-05-21T16:24:51.758863Z",
     "iopub.status.busy": "2025-05-21T16:24:51.758503Z",
     "iopub.status.idle": "2025-05-21T16:24:51.763197Z",
     "shell.execute_reply": "2025-05-21T16:24:51.762356Z"
    },
    "papermill": {
     "duration": 0.017007,
     "end_time": "2025-05-21T16:24:51.764635",
     "exception": false,
     "start_time": "2025-05-21T16:24:51.747628",
     "status": "completed"
    },
    "tags": []
   },
   "outputs": [],
   "source": [
    "#step_6.b.hint()"
   ]
  },
  {
   "cell_type": "code",
   "execution_count": 21,
   "id": "40e5b2d1",
   "metadata": {
    "execution": {
     "iopub.execute_input": "2025-05-21T16:24:51.785337Z",
     "iopub.status.busy": "2025-05-21T16:24:51.784612Z",
     "iopub.status.idle": "2025-05-21T16:24:51.792597Z",
     "shell.execute_reply": "2025-05-21T16:24:51.791757Z"
    },
    "papermill": {
     "duration": 0.019855,
     "end_time": "2025-05-21T16:24:51.794058",
     "exception": false,
     "start_time": "2025-05-21T16:24:51.774203",
     "status": "completed"
    },
    "tags": []
   },
   "outputs": [
    {
     "data": {
      "application/javascript": [
       "parent.postMessage({\"jupyterEvent\": \"custom.exercise_interaction\", \"data\": {\"interactionType\": 3, \"questionType\": 4, \"questionId\": \"6.2_ThinkColorReg\", \"learnToolsVersion\": \"0.3.5\", \"valueTowardsCompletion\": 0.0, \"failureMessage\": \"\", \"exceptionClass\": \"\", \"trace\": \"\", \"outcomeType\": 4}}, \"*\")"
      ],
      "text/plain": [
       "<IPython.core.display.Javascript object>"
      ]
     },
     "metadata": {},
     "output_type": "display_data"
    },
    {
     "data": {
      "text/markdown": [
       "<span style=\"color:#33cc99\">Solution:</span> We'll begin with the regression line for chocolate candies. Since this line has a slightly positive slope, we can say that more expensive chocolate candies tend to be more popular (than relatively cheaper chocolate candies).  Likewise, since the regression line for candies without chocolate has a negative slope, we can say that if candies don't contain chocolate, they tend to be more popular when they are cheaper.  One important note, however, is that the dataset is quite small -- so we shouldn't invest too much trust in these patterns!  To inspire more confidence in the results, we should add more candies to the dataset."
      ],
      "text/plain": [
       "Solution: We'll begin with the regression line for chocolate candies. Since this line has a slightly positive slope, we can say that more expensive chocolate candies tend to be more popular (than relatively cheaper chocolate candies).  Likewise, since the regression line for candies without chocolate has a negative slope, we can say that if candies don't contain chocolate, they tend to be more popular when they are cheaper.  One important note, however, is that the dataset is quite small -- so we shouldn't invest too much trust in these patterns!  To inspire more confidence in the results, we should add more candies to the dataset."
      ]
     },
     "metadata": {},
     "output_type": "display_data"
    }
   ],
   "source": [
    "# Check your answer (Run this code cell to receive credit!)\n",
    "step_6.b.solution()"
   ]
  },
  {
   "cell_type": "markdown",
   "id": "2faf7619",
   "metadata": {
    "papermill": {
     "duration": 0.009614,
     "end_time": "2025-05-21T16:24:51.813507",
     "exception": false,
     "start_time": "2025-05-21T16:24:51.803893",
     "status": "completed"
    },
    "tags": []
   },
   "source": [
    "## Step 7: Everybody loves chocolate.\n",
    "\n",
    "#### Part A\n",
    "\n",
    "Create a categorical scatter plot to highlight the relationship between `'chocolate'` and `'winpercent'`.  Put `'chocolate'` on the (horizontal) x-axis, and `'winpercent'` on the (vertical) y-axis."
   ]
  },
  {
   "cell_type": "code",
   "execution_count": 22,
   "id": "b391a37b",
   "metadata": {
    "execution": {
     "iopub.execute_input": "2025-05-21T16:24:51.834623Z",
     "iopub.status.busy": "2025-05-21T16:24:51.833868Z",
     "iopub.status.idle": "2025-05-21T16:24:52.097337Z",
     "shell.execute_reply": "2025-05-21T16:24:52.096413Z"
    },
    "papermill": {
     "duration": 0.27584,
     "end_time": "2025-05-21T16:24:52.098919",
     "exception": false,
     "start_time": "2025-05-21T16:24:51.823079",
     "status": "completed"
    },
    "tags": []
   },
   "outputs": [
    {
     "data": {
      "application/javascript": [
       "parent.postMessage({\"jupyterEvent\": \"custom.exercise_interaction\", \"data\": {\"outcomeType\": 1, \"valueTowardsCompletion\": 0.3333333333333333, \"interactionType\": 1, \"questionType\": 2, \"questionId\": \"7.1_PlotSwarm\", \"learnToolsVersion\": \"0.3.5\", \"failureMessage\": \"\", \"exceptionClass\": \"\", \"trace\": \"\"}}, \"*\")"
      ],
      "text/plain": [
       "<IPython.core.display.Javascript object>"
      ]
     },
     "metadata": {},
     "output_type": "display_data"
    },
    {
     "data": {
      "text/markdown": [
       "<span style=\"color:#33cc33\">Correct</span>"
      ],
      "text/plain": [
       "Correct"
      ]
     },
     "metadata": {},
     "output_type": "display_data"
    },
    {
     "data": {
      "image/png": "[encoded data removed]",
      "text/plain": [
       "<Figure size 640x480 with 1 Axes>"
      ]
     },
     "metadata": {},
     "output_type": "display_data"
    }
   ],
   "source": [
    "# Scatter plot showing the relationship between 'chocolate' and 'winpercent'\n",
    "sns.swarmplot(x=candy_data['chocolate'],\n",
    "              y=candy_data['winpercent'])\n",
    "# Your code here\n",
    "\n",
    "# Check your answer\n",
    "step_7.a.check()"
   ]
  },
  {
   "cell_type": "code",
   "execution_count": 23,
   "id": "337fc9fb",
   "metadata": {
    "execution": {
     "iopub.execute_input": "2025-05-21T16:24:52.122483Z",
     "iopub.status.busy": "2025-05-21T16:24:52.122123Z",
     "iopub.status.idle": "2025-05-21T16:24:52.126532Z",
     "shell.execute_reply": "2025-05-21T16:24:52.125587Z"
    },
    "papermill": {
     "duration": 0.01764,
     "end_time": "2025-05-21T16:24:52.127883",
     "exception": false,
     "start_time": "2025-05-21T16:24:52.110243",
     "status": "completed"
    },
    "tags": []
   },
   "outputs": [],
   "source": [
    "# Lines below will give you a hint or solution code\n",
    "#step_7.a.hint()\n",
    "#step_7.a.solution_plot()"
   ]
  },
  {
   "cell_type": "markdown",
   "id": "54e7c27b",
   "metadata": {
    "papermill": {
     "duration": 0.010231,
     "end_time": "2025-05-21T16:24:52.150341",
     "exception": false,
     "start_time": "2025-05-21T16:24:52.140110",
     "status": "completed"
    },
    "tags": []
   },
   "source": [
    "#### Part B\n",
    "\n",
    "You decide to dedicate a section of your report to the fact that chocolate candies tend to be more popular than candies without chocolate.  Which plot is more appropriate to tell this story: the plot from **Step 6**, or the plot from **Step 7**?"
   ]
  },
  {
   "cell_type": "code",
   "execution_count": 24,
   "id": "29d33020",
   "metadata": {
    "execution": {
     "iopub.execute_input": "2025-05-21T16:24:52.172627Z",
     "iopub.status.busy": "2025-05-21T16:24:52.171545Z",
     "iopub.status.idle": "2025-05-21T16:24:52.176026Z",
     "shell.execute_reply": "2025-05-21T16:24:52.175120Z"
    },
    "papermill": {
     "duration": 0.017027,
     "end_time": "2025-05-21T16:24:52.177413",
     "exception": false,
     "start_time": "2025-05-21T16:24:52.160386",
     "status": "completed"
    },
    "tags": []
   },
   "outputs": [],
   "source": [
    "#step_7.b.hint()"
   ]
  },
  {
   "cell_type": "code",
   "execution_count": 25,
   "id": "96747712",
   "metadata": {
    "execution": {
     "iopub.execute_input": "2025-05-21T16:24:52.199755Z",
     "iopub.status.busy": "2025-05-21T16:24:52.198584Z",
     "iopub.status.idle": "2025-05-21T16:24:52.206746Z",
     "shell.execute_reply": "2025-05-21T16:24:52.205843Z"
    },
    "papermill": {
     "duration": 0.020867,
     "end_time": "2025-05-21T16:24:52.208269",
     "exception": false,
     "start_time": "2025-05-21T16:24:52.187402",
     "status": "completed"
    },
    "tags": []
   },
   "outputs": [
    {
     "data": {
      "application/javascript": [
       "parent.postMessage({\"jupyterEvent\": \"custom.exercise_interaction\", \"data\": {\"interactionType\": 3, \"questionType\": 4, \"questionId\": \"7.2_ThinkSwarm\", \"learnToolsVersion\": \"0.3.5\", \"valueTowardsCompletion\": 0.0, \"failureMessage\": \"\", \"exceptionClass\": \"\", \"trace\": \"\", \"outcomeType\": 4}}, \"*\")"
      ],
      "text/plain": [
       "<IPython.core.display.Javascript object>"
      ]
     },
     "metadata": {},
     "output_type": "display_data"
    },
    {
     "data": {
      "text/markdown": [
       "<span style=\"color:#33cc99\">Solution:</span> In this case, the categorical scatter plot from **Step 7** is the more appropriate plot. While both plots tell the desired story, the plot from **Step 6** conveys far more information that could distract from the main point."
      ],
      "text/plain": [
       "Solution: In this case, the categorical scatter plot from **Step 7** is the more appropriate plot. While both plots tell the desired story, the plot from **Step 6** conveys far more information that could distract from the main point."
      ]
     },
     "metadata": {},
     "output_type": "display_data"
    }
   ],
   "source": [
    "# Check your answer (Run this code cell to receive credit!)\n",
    "step_7.b.solution()"
   ]
  },
  {
   "cell_type": "markdown",
   "id": "cdab2847",
   "metadata": {
    "papermill": {
     "duration": 0.010158,
     "end_time": "2025-05-21T16:24:52.229035",
     "exception": false,
     "start_time": "2025-05-21T16:24:52.218877",
     "status": "completed"
    },
    "tags": []
   },
   "source": [
    "## Keep going\n",
    "\n",
    "Explore **[histograms and density plots](https://www.kaggle.com/alexisbcook/distributions)**."
   ]
  },
  {
   "cell_type": "markdown",
   "id": "566eb17a",
   "metadata": {
    "execution": {
     "iopub.execute_input": "2025-05-21T16:18:02.067558Z",
     "iopub.status.busy": "2025-05-21T16:18:02.067270Z",
     "iopub.status.idle": "2025-05-21T16:18:02.090429Z",
     "shell.execute_reply": "2025-05-21T16:18:02.089213Z",
     "shell.execute_reply.started": "2025-05-21T16:18:02.067527Z"
    },
    "papermill": {
     "duration": 0.010144,
     "end_time": "2025-05-21T16:24:52.249685",
     "exception": false,
     "start_time": "2025-05-21T16:24:52.239541",
     "status": "completed"
    },
    "tags": []
   },
   "source": [
    "---\n",
    "\n",
    "\n",
    "\n",
    "\n",
    "*Have questions or comments? Visit the [course discussion forum](https://www.kaggle.com/learn/data-visualization/discussion) to chat with other learners.*"
   ]
  }
 ],
 "metadata": {
  "kaggle": {
   "accelerator": "none",
   "dataSources": [
    {
     "datasetId": 116573,
     "sourceId": 3551030,
     "sourceType": "datasetVersion"
    }
   ],
   "isGpuEnabled": false,
   "isInternetEnabled": false,
   "language": "python",
   "sourceType": "notebook"
  },
  "kernelspec": {
   "display_name": "Python 3",
   "language": "python",
   "name": "python3"
  },
  "language_info": {
   "codemirror_mode": {
    "name": "ipython",
    "version": 3
   },
   "file_extension": ".py",
   "mimetype": "text/x-python",
   "name": "python",
   "nbconvert_exporter": "python",
   "pygments_lexer": "ipython3",
   "version": "3.11.11"
  },
  "papermill": {
   "default_parameters": {},
   "duration": 12.48936,
   "end_time": "2025-05-21T16:24:53.182662",
   "environment_variables": {},
   "exception": null,
   "input_path": "__notebook__.ipynb",
   "output_path": "__notebook__.ipynb",
   "parameters": {},
   "start_time": "2025-05-21T16:24:40.693302",
   "version": "2.6.0"
  }
 },
 "nbformat": 4,
 "nbformat_minor": 5
}
