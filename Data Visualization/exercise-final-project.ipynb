{
 "cells": [
  {
   "cell_type": "markdown",
   "id": "d3a9a908",
   "metadata": {
    "papermill": {
     "duration": 0.003633,
     "end_time": "2025-05-20T13:30:03.260907",
     "exception": false,
     "start_time": "2025-05-20T13:30:03.257274",
     "status": "completed"
    },
    "tags": []
   },
   "source": [
    "**This notebook is an exercise in the [Data Visualization](https://www.kaggle.com/learn/data-visualization) course.  You can reference the tutorial at [this link](https://www.kaggle.com/alexisbcook/final-project).**\n",
    "\n",
    "---\n"
   ]
  },
  {
   "cell_type": "markdown",
   "id": "d84b8b0e",
   "metadata": {
    "papermill": {
     "duration": 0.002849,
     "end_time": "2025-05-20T13:30:03.267246",
     "exception": false,
     "start_time": "2025-05-20T13:30:03.264397",
     "status": "completed"
    },
    "tags": []
   },
   "source": [
    "Now it's time for you to demonstrate your new skills with a project of your own!\n",
    "\n",
    "In this exercise, you will work with a dataset of your choosing.  Once you've selected a dataset, you'll design and create your own plot to tell interesting stories behind the data!\n",
    "\n",
    "## Setup\n",
    "\n",
    "Run the next cell to import and configure the Python libraries that you need to complete the exercise."
   ]
  },
  {
   "cell_type": "code",
   "execution_count": 1,
   "id": "626ace7a",
   "metadata": {
    "execution": {
     "iopub.execute_input": "2025-05-20T13:30:03.274762Z",
     "iopub.status.busy": "2025-05-20T13:30:03.274442Z",
     "iopub.status.idle": "2025-05-20T13:30:07.441508Z",
     "shell.execute_reply": "2025-05-20T13:30:07.440515Z"
    },
    "papermill": {
     "duration": 4.173394,
     "end_time": "2025-05-20T13:30:07.443705",
     "exception": false,
     "start_time": "2025-05-20T13:30:03.270311",
     "status": "completed"
    },
    "tags": []
   },
   "outputs": [
    {
     "name": "stdout",
     "output_type": "stream",
     "text": [
      "Setup Complete\n"
     ]
    }
   ],
   "source": [
    "import pandas as pd\n",
    "pd.plotting.register_matplotlib_converters()\n",
    "import matplotlib.pyplot as plt\n",
    "%matplotlib inline\n",
    "import seaborn as sns\n",
    "print(\"Setup Complete\")"
   ]
  },
  {
   "cell_type": "markdown",
   "id": "1857682a",
   "metadata": {
    "papermill": {
     "duration": 0.003551,
     "end_time": "2025-05-20T13:30:07.450906",
     "exception": false,
     "start_time": "2025-05-20T13:30:07.447355",
     "status": "completed"
    },
    "tags": []
   },
   "source": [
    "The questions below will give you feedback on your work. Run the following cell to set up the feedback system."
   ]
  },
  {
   "cell_type": "code",
   "execution_count": 2,
   "id": "ee27019b",
   "metadata": {
    "execution": {
     "iopub.execute_input": "2025-05-20T13:30:07.459761Z",
     "iopub.status.busy": "2025-05-20T13:30:07.459144Z",
     "iopub.status.idle": "2025-05-20T13:30:07.512534Z",
     "shell.execute_reply": "2025-05-20T13:30:07.511305Z"
    },
    "papermill": {
     "duration": 0.060873,
     "end_time": "2025-05-20T13:30:07.515120",
     "exception": false,
     "start_time": "2025-05-20T13:30:07.454247",
     "status": "completed"
    },
    "tags": []
   },
   "outputs": [
    {
     "name": "stdout",
     "output_type": "stream",
     "text": [
      "Setup Complete\n"
     ]
    }
   ],
   "source": [
    "# Set up code checking\n",
    "from learntools.core import binder\n",
    "binder.bind(globals())\n",
    "from learntools.data_viz_to_coder.ex7 import *\n",
    "print(\"Setup Complete\")"
   ]
  },
  {
   "cell_type": "markdown",
   "id": "d579e1ba",
   "metadata": {
    "papermill": {
     "duration": 0.003037,
     "end_time": "2025-05-20T13:30:07.521674",
     "exception": false,
     "start_time": "2025-05-20T13:30:07.518637",
     "status": "completed"
    },
    "tags": []
   },
   "source": [
    "## Step 1: Attach a dataset to the notebook\n",
    "\n",
    "Begin by selecting a CSV dataset from [Kaggle Datasets](https://www.kaggle.com/datasets).  If you're unsure how to do this, please revisit the instructions in the previous tutorial.\n",
    "\n",
    "Once you have selected a dataset, click on the **[+ Add data]** option in the top right corner.  This will generate a pop-up window that you can use to search for your chosen dataset.  \n",
    "\n",
    "![ex6_search_dataset](https://storage.googleapis.com/kaggle-media/learn/images/cIIWPUS.png)\n",
    "\n",
    "Once you have found the dataset, click on the **[Add]** button to attach it to the notebook.  You can check that it was successful by looking at the **Data** dropdown menu to the right of the notebook -- look for an **input** folder containing a subfolder that matches the name of the dataset.\n",
    "\n",
    "<center>\n",
    "<img src=\"https://storage.googleapis.com/kaggle-media/learn/images/nMYc1Nu.png\" width=30%><br/>\n",
    "</center>\n",
    "\n",
    "You can click on the carat to the left of the name of the dataset to double-check that it contains a CSV file.  For instance, the image below shows that the example dataset contains two CSV files: (1) **dc-wikia-data.csv**, and (2) **marvel-wikia-data.csv**.\n",
    "\n",
    "<center>\n",
    "<img src=\"https://storage.googleapis.com/kaggle-media/learn/images/B4sJkVA.png\" width=30%><br/>\n",
    "</center>\n",
    "\n",
    "Once you've uploaded a dataset with a CSV file, run the code cell below **without changes** to receive credit for your work!"
   ]
  },
  {
   "cell_type": "code",
   "execution_count": 3,
   "id": "b2d85daf",
   "metadata": {
    "execution": {
     "iopub.execute_input": "2025-05-20T13:30:07.529475Z",
     "iopub.status.busy": "2025-05-20T13:30:07.529157Z",
     "iopub.status.idle": "2025-05-20T13:30:07.543229Z",
     "shell.execute_reply": "2025-05-20T13:30:07.542080Z"
    },
    "papermill": {
     "duration": 0.019997,
     "end_time": "2025-05-20T13:30:07.544898",
     "exception": false,
     "start_time": "2025-05-20T13:30:07.524901",
     "status": "completed"
    },
    "tags": []
   },
   "outputs": [
    {
     "data": {
      "application/javascript": [
       "parent.postMessage({\"jupyterEvent\": \"custom.exercise_interaction\", \"data\": {\"outcomeType\": 1, \"valueTowardsCompletion\": 0.25, \"interactionType\": 1, \"questionType\": 2, \"questionId\": \"1_AttachData\", \"learnToolsVersion\": \"0.3.5\", \"failureMessage\": \"\", \"exceptionClass\": \"\", \"trace\": \"\"}}, \"*\")"
      ],
      "text/plain": [
       "<IPython.core.display.Javascript object>"
      ]
     },
     "metadata": {},
     "output_type": "display_data"
    },
    {
     "data": {
      "text/markdown": [
       "<span style=\"color:#33cc33\">Correct:</span> \n",
       "\n"
      ],
      "text/plain": [
       "Correct: \n"
      ]
     },
     "metadata": {},
     "output_type": "display_data"
    }
   ],
   "source": [
    "# Check for a dataset with a CSV file\n",
    "step_1.check()\n"
   ]
  },
  {
   "cell_type": "markdown",
   "id": "fce50c7b",
   "metadata": {
    "papermill": {
     "duration": 0.003628,
     "end_time": "2025-05-20T13:30:07.552272",
     "exception": false,
     "start_time": "2025-05-20T13:30:07.548644",
     "status": "completed"
    },
    "tags": []
   },
   "source": [
    "## Step 2: Specify the filepath\n",
    "\n",
    "Now that the dataset is attached to the notebook, you can find its filepath.  To do this, begin by clicking on the CSV file you'd like to use.  This will open the CSV file in a tab below the notebook.  You can find the filepath towards the top of this new tab.  \n",
    "\n",
    "![ex6_filepath](https://storage.googleapis.com/kaggle-media/learn/images/fgXQV47.png)\n",
    "\n",
    "After you find the filepath corresponding to your dataset, fill it in as the value for `my_filepath` in the code cell below, and run the code cell to check that you've provided a valid filepath.  For instance, in the case of this example dataset, we would set\n",
    "```\n",
    "my_filepath = \"../input/fivethirtyeight-comic-characters-dataset/dc-wikia-data.csv\"\n",
    "```  \n",
    "Note that **you must enclose the filepath in quotation marks**; otherwise, the code will return an error.\n",
    "\n",
    "Once you've entered the filepath, you can close the tab below the notebook by clicking on the **[X]** at the top of the tab."
   ]
  },
  {
   "cell_type": "code",
   "execution_count": 4,
   "id": "4887f572",
   "metadata": {
    "execution": {
     "iopub.execute_input": "2025-05-20T13:30:07.560988Z",
     "iopub.status.busy": "2025-05-20T13:30:07.560585Z",
     "iopub.status.idle": "2025-05-20T13:30:07.568261Z",
     "shell.execute_reply": "2025-05-20T13:30:07.567358Z"
    },
    "papermill": {
     "duration": 0.014015,
     "end_time": "2025-05-20T13:30:07.569758",
     "exception": false,
     "start_time": "2025-05-20T13:30:07.555743",
     "status": "completed"
    },
    "tags": []
   },
   "outputs": [
    {
     "data": {
      "application/javascript": [
       "parent.postMessage({\"jupyterEvent\": \"custom.exercise_interaction\", \"data\": {\"outcomeType\": 1, \"valueTowardsCompletion\": 0.25, \"interactionType\": 1, \"questionType\": 2, \"questionId\": \"2_Filepath\", \"learnToolsVersion\": \"0.3.5\", \"failureMessage\": \"\", \"exceptionClass\": \"\", \"trace\": \"\"}}, \"*\")"
      ],
      "text/plain": [
       "<IPython.core.display.Javascript object>"
      ]
     },
     "metadata": {},
     "output_type": "display_data"
    },
    {
     "data": {
      "text/markdown": [
       "<span style=\"color:#33cc33\">Correct:</span> \n",
       "\n"
      ],
      "text/plain": [
       "Correct: \n"
      ]
     },
     "metadata": {},
     "output_type": "display_data"
    }
   ],
   "source": [
    "# Fill in the line below: Specify the path of the CSV file to read\n",
    "my_filepath = '/kaggle/input/r-dataisbeautiful-posts/r_dataisbeautiful_posts.csv'\n",
    "# Check for a valid filepath to a CSV file in a dataset\n",
    "step_2.check()"
   ]
  },
  {
   "cell_type": "markdown",
   "id": "fe00e2e5",
   "metadata": {
    "papermill": {
     "duration": 0.003837,
     "end_time": "2025-05-20T13:30:07.578407",
     "exception": false,
     "start_time": "2025-05-20T13:30:07.574570",
     "status": "completed"
    },
    "tags": []
   },
   "source": [
    "## Step 3: Load the data\n",
    "\n",
    "Use the next code cell to load your data file into `my_data`.  Use the filepath that you specified in the previous step."
   ]
  },
  {
   "cell_type": "markdown",
   "id": "7a1058a1",
   "metadata": {
    "papermill": {
     "duration": 0.003331,
     "end_time": "2025-05-20T13:30:07.585389",
     "exception": false,
     "start_time": "2025-05-20T13:30:07.582058",
     "status": "completed"
    },
    "tags": []
   },
   "source": [
    "**_After the code cell above is marked correct_**, run the code cell below without changes to view the first five rows of the data."
   ]
  },
  {
   "cell_type": "code",
   "execution_count": 5,
   "id": "ed524c06",
   "metadata": {
    "execution": {
     "iopub.execute_input": "2025-05-20T13:30:07.594467Z",
     "iopub.status.busy": "2025-05-20T13:30:07.593958Z",
     "iopub.status.idle": "2025-05-20T13:30:09.365022Z",
     "shell.execute_reply": "2025-05-20T13:30:09.364142Z"
    },
    "papermill": {
     "duration": 1.777176,
     "end_time": "2025-05-20T13:30:09.366532",
     "exception": false,
     "start_time": "2025-05-20T13:30:07.589356",
     "status": "completed"
    },
    "tags": []
   },
   "outputs": [
    {
     "data": {
      "application/javascript": [
       "parent.postMessage({\"jupyterEvent\": \"custom.exercise_interaction\", \"data\": {\"outcomeType\": 1, \"valueTowardsCompletion\": 0.25, \"interactionType\": 1, \"questionType\": 2, \"questionId\": \"3_LoadData\", \"learnToolsVersion\": \"0.3.5\", \"failureMessage\": \"\", \"exceptionClass\": \"\", \"trace\": \"\"}}, \"*\")"
      ],
      "text/plain": [
       "<IPython.core.display.Javascript object>"
      ]
     },
     "metadata": {},
     "output_type": "display_data"
    },
    {
     "data": {
      "text/markdown": [
       "<span style=\"color:#33cc33\">Correct:</span> \n",
       "\n"
      ],
      "text/plain": [
       "Correct: \n"
      ]
     },
     "metadata": {},
     "output_type": "display_data"
    }
   ],
   "source": [
    "# Fill in the line below: Read the file into a variable my_data\n",
    "my_data = pd.read_csv(my_filepath, low_memory=False)\n",
    "\n",
    "# Check that a dataset has been uploaded into my_data\n",
    "step_3.check()"
   ]
  },
  {
   "cell_type": "markdown",
   "id": "e0f0df61",
   "metadata": {
    "papermill": {
     "duration": 0.003605,
     "end_time": "2025-05-20T13:30:09.374085",
     "exception": false,
     "start_time": "2025-05-20T13:30:09.370480",
     "status": "completed"
    },
    "tags": []
   },
   "source": [
    "## Step 4: Visualize the data\n",
    "\n",
    "Use the next code cell to create a figure that tells a story behind your dataset.  You can use any chart type (_line chart, bar chart, heatmap, etc_) of your choosing!"
   ]
  },
  {
   "cell_type": "code",
   "execution_count": 6,
   "id": "3a360a2e",
   "metadata": {
    "execution": {
     "iopub.execute_input": "2025-05-20T13:30:09.382747Z",
     "iopub.status.busy": "2025-05-20T13:30:09.382349Z",
     "iopub.status.idle": "2025-05-20T13:30:09.414930Z",
     "shell.execute_reply": "2025-05-20T13:30:09.413779Z"
    },
    "papermill": {
     "duration": 0.038707,
     "end_time": "2025-05-20T13:30:09.416483",
     "exception": false,
     "start_time": "2025-05-20T13:30:09.377776",
     "status": "completed"
    },
    "tags": []
   },
   "outputs": [
    {
     "data": {
      "text/html": [
       "<div>\n",
       "<style scoped>\n",
       "    .dataframe tbody tr th:only-of-type {\n",
       "        vertical-align: middle;\n",
       "    }\n",
       "\n",
       "    .dataframe tbody tr th {\n",
       "        vertical-align: top;\n",
       "    }\n",
       "\n",
       "    .dataframe thead th {\n",
       "        text-align: right;\n",
       "    }\n",
       "</style>\n",
       "<table border=\"1\" class=\"dataframe\">\n",
       "  <thead>\n",
       "    <tr style=\"text-align: right;\">\n",
       "      <th></th>\n",
       "      <th>id</th>\n",
       "      <th>title</th>\n",
       "      <th>score</th>\n",
       "      <th>author</th>\n",
       "      <th>author_flair_text</th>\n",
       "      <th>removed_by</th>\n",
       "      <th>total_awards_received</th>\n",
       "      <th>awarders</th>\n",
       "      <th>created_utc</th>\n",
       "      <th>full_link</th>\n",
       "      <th>num_comments</th>\n",
       "      <th>over_18</th>\n",
       "    </tr>\n",
       "  </thead>\n",
       "  <tbody>\n",
       "    <tr>\n",
       "      <th>0</th>\n",
       "      <td>flydw4</td>\n",
       "      <td>Two arrested after botched 'Islamist attack' s...</td>\n",
       "      <td>1</td>\n",
       "      <td>hornedviper9</td>\n",
       "      <td>NaN</td>\n",
       "      <td>reddit</td>\n",
       "      <td>0.0</td>\n",
       "      <td>[]</td>\n",
       "      <td>1584723353</td>\n",
       "      <td>https://www.reddit.com/r/dataisbeautiful/comme...</td>\n",
       "      <td>0</td>\n",
       "      <td>False</td>\n",
       "    </tr>\n",
       "    <tr>\n",
       "      <th>1</th>\n",
       "      <td>fly9me</td>\n",
       "      <td>[OC] LinkedIn hiring data shows a \"rolling bla...</td>\n",
       "      <td>1</td>\n",
       "      <td>brixu</td>\n",
       "      <td>NaN</td>\n",
       "      <td>NaN</td>\n",
       "      <td>0.0</td>\n",
       "      <td>[]</td>\n",
       "      <td>1584722940</td>\n",
       "      <td>https://www.reddit.com/r/dataisbeautiful/comme...</td>\n",
       "      <td>0</td>\n",
       "      <td>False</td>\n",
       "    </tr>\n",
       "    <tr>\n",
       "      <th>2</th>\n",
       "      <td>fly7e7</td>\n",
       "      <td>Check out this site I made to help track how m...</td>\n",
       "      <td>1</td>\n",
       "      <td>peachteaboba</td>\n",
       "      <td>NaN</td>\n",
       "      <td>NaN</td>\n",
       "      <td>0.0</td>\n",
       "      <td>[]</td>\n",
       "      <td>1584722714</td>\n",
       "      <td>https://www.reddit.com/r/dataisbeautiful/comme...</td>\n",
       "      <td>2</td>\n",
       "      <td>False</td>\n",
       "    </tr>\n",
       "    <tr>\n",
       "      <th>3</th>\n",
       "      <td>fly6mw</td>\n",
       "      <td>See the Disgusting Market In Wuhan Where This ...</td>\n",
       "      <td>1</td>\n",
       "      <td>hornedviper9</td>\n",
       "      <td>NaN</td>\n",
       "      <td>reddit</td>\n",
       "      <td>0.0</td>\n",
       "      <td>[]</td>\n",
       "      <td>1584722643</td>\n",
       "      <td>https://www.reddit.com/r/dataisbeautiful/comme...</td>\n",
       "      <td>0</td>\n",
       "      <td>False</td>\n",
       "    </tr>\n",
       "    <tr>\n",
       "      <th>4</th>\n",
       "      <td>fly2yu</td>\n",
       "      <td>Click here to continue...</td>\n",
       "      <td>1</td>\n",
       "      <td>iaad99</td>\n",
       "      <td>NaN</td>\n",
       "      <td>reddit</td>\n",
       "      <td>0.0</td>\n",
       "      <td>[]</td>\n",
       "      <td>1584722292</td>\n",
       "      <td>https://www.reddit.com/r/dataisbeautiful/comme...</td>\n",
       "      <td>0</td>\n",
       "      <td>False</td>\n",
       "    </tr>\n",
       "  </tbody>\n",
       "</table>\n",
       "</div>"
      ],
      "text/plain": [
       "       id                                              title  score  \\\n",
       "0  flydw4  Two arrested after botched 'Islamist attack' s...      1   \n",
       "1  fly9me  [OC] LinkedIn hiring data shows a \"rolling bla...      1   \n",
       "2  fly7e7  Check out this site I made to help track how m...      1   \n",
       "3  fly6mw  See the Disgusting Market In Wuhan Where This ...      1   \n",
       "4  fly2yu                          Click here to continue...      1   \n",
       "\n",
       "         author author_flair_text removed_by  total_awards_received awarders  \\\n",
       "0  hornedviper9               NaN     reddit                    0.0       []   \n",
       "1         brixu               NaN        NaN                    0.0       []   \n",
       "2  peachteaboba               NaN        NaN                    0.0       []   \n",
       "3  hornedviper9               NaN     reddit                    0.0       []   \n",
       "4        iaad99               NaN     reddit                    0.0       []   \n",
       "\n",
       "   created_utc                                          full_link  \\\n",
       "0   1584723353  https://www.reddit.com/r/dataisbeautiful/comme...   \n",
       "1   1584722940  https://www.reddit.com/r/dataisbeautiful/comme...   \n",
       "2   1584722714  https://www.reddit.com/r/dataisbeautiful/comme...   \n",
       "3   1584722643  https://www.reddit.com/r/dataisbeautiful/comme...   \n",
       "4   1584722292  https://www.reddit.com/r/dataisbeautiful/comme...   \n",
       "\n",
       "   num_comments  over_18  \n",
       "0             0    False  \n",
       "1             0    False  \n",
       "2             2    False  \n",
       "3             0    False  \n",
       "4             0    False  "
      ]
     },
     "execution_count": 6,
     "metadata": {},
     "output_type": "execute_result"
    }
   ],
   "source": [
    "# Print the first five rows of the data\n",
    "my_data.head()"
   ]
  },
  {
   "cell_type": "markdown",
   "id": "3a783436",
   "metadata": {
    "papermill": {
     "duration": 0.003731,
     "end_time": "2025-05-20T13:30:09.424461",
     "exception": false,
     "start_time": "2025-05-20T13:30:09.420730",
     "status": "completed"
    },
    "tags": []
   },
   "source": [
    "## Keep going\n",
    "\n",
    "Learn how to use your skills after completing the micro-course to create data visualizations in a **[final tutorial](https://www.kaggle.com/alexisbcook/creating-your-own-notebooks)**."
   ]
  },
  {
   "cell_type": "code",
   "execution_count": 7,
   "id": "e67ad443",
   "metadata": {
    "execution": {
     "iopub.execute_input": "2025-05-20T13:30:09.434606Z",
     "iopub.status.busy": "2025-05-20T13:30:09.434114Z",
     "iopub.status.idle": "2025-05-20T13:30:09.934116Z",
     "shell.execute_reply": "2025-05-20T13:30:09.932995Z"
    },
    "papermill": {
     "duration": 0.508412,
     "end_time": "2025-05-20T13:30:09.936809",
     "exception": false,
     "start_time": "2025-05-20T13:30:09.428397",
     "status": "completed"
    },
    "tags": []
   },
   "outputs": [
    {
     "data": {
      "application/javascript": [
       "parent.postMessage({\"jupyterEvent\": \"custom.exercise_interaction\", \"data\": {\"outcomeType\": 1, \"valueTowardsCompletion\": 0.25, \"interactionType\": 1, \"questionType\": 2, \"questionId\": \"4_CreatePlot\", \"learnToolsVersion\": \"0.3.5\", \"failureMessage\": \"\", \"exceptionClass\": \"\", \"trace\": \"\"}}, \"*\")"
      ],
      "text/plain": [
       "<IPython.core.display.Javascript object>"
      ]
     },
     "metadata": {},
     "output_type": "display_data"
    },
    {
     "data": {
      "text/markdown": [
       "<span style=\"color:#33cc33\">Correct:</span> \n",
       "\n"
      ],
      "text/plain": [
       "Correct: \n"
      ]
     },
     "metadata": {},
     "output_type": "display_data"
    },
    {
     "data": {
      "image/png": "[encoded data removed]",
      "text/plain": [
       "<Figure size 1000x600 with 1 Axes>"
      ]
     },
     "metadata": {},
     "output_type": "display_data"
    }
   ],
   "source": [
    "# Create a plot\n",
    "my_data.sort_values(by='total_awards_received', ascending=False, inplace=True)\n",
    "my_clean_data = my_data[0:11][['author', 'total_awards_received']]\n",
    "\n",
    "# Set the width and height of the figure\n",
    "plt.figure(figsize=(10,6))\n",
    "\n",
    "# Add title\n",
    "plt.title(\"Awards per Author\")\n",
    "\n",
    "# Bar chart showing average arrival delay for Spirit Airlines flights by month\n",
    "sns.barplot(x=my_clean_data['author'], y=my_clean_data['total_awards_received'])\n",
    "\n",
    "# Add label for vertical axis\n",
    "plt.ylabel(\"N of Awards\")\n",
    "plt.xlabel(\"Author\")\n",
    "\n",
    "# Correct rotation: integer, not string\n",
    "plt.xticks(rotation=90)\n",
    "\n",
    "# Check that a figure appears below\n",
    "step_4.check()\n",
    "plt.show()\n"
   ]
  },
  {
   "cell_type": "markdown",
   "id": "7b96db77",
   "metadata": {
    "papermill": {
     "duration": 0.004502,
     "end_time": "2025-05-20T13:30:09.946548",
     "exception": false,
     "start_time": "2025-05-20T13:30:09.942046",
     "status": "completed"
    },
    "tags": []
   },
   "source": [
    "---\n",
    "\n",
    "\n",
    "\n",
    "\n",
    "*Have questions or comments? Visit the [course discussion forum](https://www.kaggle.com/learn/data-visualization/discussion) to chat with other learners.*"
   ]
  }
 ],
 "metadata": {
  "kaggle": {
   "accelerator": "none",
   "dataSources": [
    {
     "datasetId": 7469563,
     "sourceId": 11884556,
     "sourceType": "datasetVersion"
    }
   ],
   "isGpuEnabled": false,
   "isInternetEnabled": false,
   "language": "python",
   "sourceType": "notebook"
  },
  "kernelspec": {
   "display_name": "Python 3",
   "language": "python",
   "name": "python3"
  },
  "language_info": {
   "codemirror_mode": {
    "name": "ipython",
    "version": 3
   },
   "file_extension": ".py",
   "mimetype": "text/x-python",
   "name": "python",
   "nbconvert_exporter": "python",
   "pygments_lexer": "ipython3",
   "version": "3.11.11"
  },
  "papermill": {
   "default_parameters": {},
   "duration": 12.61359,
   "end_time": "2025-05-20T13:30:10.673519",
   "environment_variables": {},
   "exception": null,
   "input_path": "__notebook__.ipynb",
   "output_path": "__notebook__.ipynb",
   "parameters": {},
   "start_time": "2025-05-20T13:29:58.059929",
   "version": "2.6.0"
  }
 },
 "nbformat": 4,
 "nbformat_minor": 5
}
